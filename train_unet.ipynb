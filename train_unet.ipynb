{
 "cells": [
  {
   "cell_type": "raw",
   "source": [],
   "metadata": {
    "collapsed": false
   },
   "id": "1ec6897025f79652"
  },
  {
   "cell_type": "code",
   "execution_count": null,
   "id": "initial_id",
   "metadata": {
    "collapsed": true
   },
   "outputs": [],
   "source": [
    "import os\n",
    "import wandb\n",
    "from dotenv import load_dotenv\n",
    "\n",
    "load_dotenv()\n",
    "wandb_api_key = os.getenv(\"WANDB_API_KEY\")\n",
    "wandb_project = os.getenv(\"WANDB_PROJECT_NAME\")\n",
    "wandb.login(key=wandb_api_key)"
   ]
  },
  {
   "cell_type": "code",
   "execution_count": null,
   "outputs": [],
   "source": [
    "from unet_trainer import UNetTrainer\n",
    "\n",
    "sweep_config = {\n",
    "    \"method\": \"grid\",\n",
    "    \"metric\": {\n",
    "        \"name\": \"val_loss\",\n",
    "        \"goal\": \"minimize\",\n",
    "    },\n",
    "    \"parameters\": {\n",
    "        \"seed\": {\"value\": 0},\n",
    "        \"num_epochs\": {\"value\": 5},\n",
    "        \"batch_size\": {\"value\": 16},\n",
    "        \"in_channels\": {\"value\": 3},\n",
    "        \"out_channels\": {\"value\": 1},\n",
    "        \"learning_rate\": {\"value\": 1e-5},\n",
    "    },\n",
    "}\n",
    "sweep_id = wandb.sweep(sweep_config, project=wandb_project)\n",
    "wandb.agent(sweep_id, UNetTrainer.train)"
   ],
   "metadata": {
    "collapsed": false
   },
   "id": "4d184c2630c6f06c"
  },
  {
   "cell_type": "code",
   "execution_count": null,
   "outputs": [],
   "source": [],
   "metadata": {
    "collapsed": false
   },
   "id": "5f640dd1736e30a8"
  }
 ],
 "metadata": {
  "kernelspec": {
   "display_name": "Python 3",
   "language": "python",
   "name": "python3"
  },
  "language_info": {
   "codemirror_mode": {
    "name": "ipython",
    "version": 2
   },
   "file_extension": ".py",
   "mimetype": "text/x-python",
   "name": "python",
   "nbconvert_exporter": "python",
   "pygments_lexer": "ipython2",
   "version": "2.7.6"
  }
 },
 "nbformat": 4,
 "nbformat_minor": 5
}
